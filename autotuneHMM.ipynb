{
  "cells": [
    {
      "cell_type": "markdown",
      "metadata": {
        "id": "JufFXC7OwgQr"
      },
      "source": [
        "# midi2voice\n"
      ]
    },
    {
      "cell_type": "markdown",
      "metadata": {
        "id": "le-vOkZFy1AY"
      },
      "source": [
        "## Install musescore"
      ]
    },
    {
      "cell_type": "code",
      "execution_count": null,
      "metadata": {
        "colab": {
          "base_uri": "https://localhost:8080/"
        },
        "id": "W44OZg3EqV5j",
        "outputId": "ccfa2f43-3620-4654-e08c-ab30f5773ce4",
        "vscode": {
          "languageId": "python"
        }
      },
      "outputs": [],
      "source": [
        "!yes | add-apt-repository ppa:mscore-ubuntu/mscore3-stable\n",
        "!apt update\n",
        "!apt install musescore3\n",
        "!ln -s /usr/bin/musescore3 /usr/bin/musescore"
      ]
    },
    {
      "cell_type": "markdown",
      "metadata": {
        "id": "OJMXNWrtyqmQ"
      },
      "source": [
        "## Install midi2voice\n",
        "This is a [small library](https://pypi.org/project/midi2voice/) that makes it easy to interact with the [sinsy.jp](sinsy.jp) website. It implements a lyrics tokenization system so you can just provide a text file with the lyrics, then midi2voice maps it to the notes in the song for you."
      ]
    },
    {
      "cell_type": "code",
      "execution_count": null,
      "metadata": {
        "colab": {
          "base_uri": "https://localhost:8080/"
        },
        "id": "gAH6sESN-TWq",
        "outputId": "02f0cebc-4715-4e71-ff83-bd94abad17e9",
        "vscode": {
          "languageId": "python"
        }
      },
      "outputs": [
        {
          "name": "stdout",
          "output_type": "stream",
          "text": [
            "Looking in indexes: https://pypi.org/simple, https://us-python.pkg.dev/colab-wheels/public/simple/\n",
            "Collecting git+https://github.com/mathigatti/midi2voice.git\n",
            "  Cloning https://github.com/mathigatti/midi2voice.git to /tmp/pip-req-build-zb90h4g9\n",
            "  Running command git clone --filter=blob:none --quiet https://github.com/mathigatti/midi2voice.git /tmp/pip-req-build-zb90h4g9\n",
            "  Resolved https://github.com/mathigatti/midi2voice.git to commit ebd5650dbbaff3b25058e14cbdcca0c08167e494\n",
            "  Preparing metadata (setup.py) ... \u001b[?25l\u001b[?25hdone\n",
            "Requirement already satisfied: requests in /usr/local/lib/python3.9/dist-packages (from midi2voice==1.0.4) (2.27.1)\n",
            "Requirement already satisfied: music21 in /usr/local/lib/python3.9/dist-packages (from midi2voice==1.0.4) (8.1.0)\n",
            "Collecting Pyphen\n",
            "  Downloading pyphen-0.14.0-py3-none-any.whl (2.0 MB)\n",
            "\u001b[2K     \u001b[90m━━━━━━━━━━━━━━━━━━━━━━━━━━━━━━━━━━━━━━━━\u001b[0m \u001b[32m2.0/2.0 MB\u001b[0m \u001b[31m25.6 MB/s\u001b[0m eta \u001b[36m0:00:00\u001b[0m\n",
            "\u001b[?25hRequirement already satisfied: chardet in /usr/local/lib/python3.9/dist-packages (from music21->midi2voice==1.0.4) (4.0.0)\n",
            "Requirement already satisfied: more-itertools in /usr/local/lib/python3.9/dist-packages (from music21->midi2voice==1.0.4) (9.1.0)\n",
            "Requirement already satisfied: joblib in /usr/local/lib/python3.9/dist-packages (from music21->midi2voice==1.0.4) (1.1.1)\n",
            "Requirement already satisfied: jsonpickle in /usr/local/lib/python3.9/dist-packages (from music21->midi2voice==1.0.4) (3.0.1)\n",
            "Requirement already satisfied: webcolors>=1.5 in /usr/local/lib/python3.9/dist-packages (from music21->midi2voice==1.0.4) (1.13)\n",
            "Requirement already satisfied: numpy in /usr/local/lib/python3.9/dist-packages (from music21->midi2voice==1.0.4) (1.22.4)\n",
            "Requirement already satisfied: matplotlib in /usr/local/lib/python3.9/dist-packages (from music21->midi2voice==1.0.4) (3.7.1)\n",
            "Requirement already satisfied: urllib3<1.27,>=1.21.1 in /usr/local/lib/python3.9/dist-packages (from requests->midi2voice==1.0.4) (1.26.15)\n",
            "Requirement already satisfied: idna<4,>=2.5 in /usr/local/lib/python3.9/dist-packages (from requests->midi2voice==1.0.4) (3.4)\n",
            "Requirement already satisfied: certifi>=2017.4.17 in /usr/local/lib/python3.9/dist-packages (from requests->midi2voice==1.0.4) (2022.12.7)\n",
            "Requirement already satisfied: charset-normalizer~=2.0.0 in /usr/local/lib/python3.9/dist-packages (from requests->midi2voice==1.0.4) (2.0.12)\n",
            "Requirement already satisfied: contourpy>=1.0.1 in /usr/local/lib/python3.9/dist-packages (from matplotlib->music21->midi2voice==1.0.4) (1.0.7)\n",
            "Requirement already satisfied: pyparsing>=2.3.1 in /usr/local/lib/python3.9/dist-packages (from matplotlib->music21->midi2voice==1.0.4) (3.0.9)\n",
            "Requirement already satisfied: python-dateutil>=2.7 in /usr/local/lib/python3.9/dist-packages (from matplotlib->music21->midi2voice==1.0.4) (2.8.2)\n",
            "Requirement already satisfied: importlib-resources>=3.2.0 in /usr/local/lib/python3.9/dist-packages (from matplotlib->music21->midi2voice==1.0.4) (5.12.0)\n",
            "Requirement already satisfied: packaging>=20.0 in /usr/local/lib/python3.9/dist-packages (from matplotlib->music21->midi2voice==1.0.4) (23.0)\n",
            "Requirement already satisfied: kiwisolver>=1.0.1 in /usr/local/lib/python3.9/dist-packages (from matplotlib->music21->midi2voice==1.0.4) (1.4.4)\n",
            "Requirement already satisfied: cycler>=0.10 in /usr/local/lib/python3.9/dist-packages (from matplotlib->music21->midi2voice==1.0.4) (0.11.0)\n",
            "Requirement already satisfied: pillow>=6.2.0 in /usr/local/lib/python3.9/dist-packages (from matplotlib->music21->midi2voice==1.0.4) (8.4.0)\n",
            "Requirement already satisfied: fonttools>=4.22.0 in /usr/local/lib/python3.9/dist-packages (from matplotlib->music21->midi2voice==1.0.4) (4.39.3)\n",
            "Requirement already satisfied: zipp>=3.1.0 in /usr/local/lib/python3.9/dist-packages (from importlib-resources>=3.2.0->matplotlib->music21->midi2voice==1.0.4) (3.15.0)\n",
            "Requirement already satisfied: six>=1.5 in /usr/local/lib/python3.9/dist-packages (from python-dateutil>=2.7->matplotlib->music21->midi2voice==1.0.4) (1.16.0)\n",
            "Building wheels for collected packages: midi2voice\n",
            "  Building wheel for midi2voice (setup.py) ... \u001b[?25l\u001b[?25hdone\n",
            "  Created wheel for midi2voice: filename=midi2voice-1.0.4-py3-none-any.whl size=7953 sha256=633ea421a80bd6b3bdd71d89974b15d7b27cf157ba36b2431a7d01e2fbb6b4e8\n",
            "  Stored in directory: /tmp/pip-ephem-wheel-cache-f5kwqm4i/wheels/0f/58/6a/e94ca747fb3e5cae6d6ebba8f1fa993ec259d44040b7d1f063\n",
            "Successfully built midi2voice\n",
            "Installing collected packages: Pyphen, midi2voice\n",
            "Successfully installed Pyphen-0.14.0 midi2voice-1.0.4\n"
          ]
        }
      ],
      "source": [
        "!pip install git+https://github.com/mathigatti/midi2voice.git"
      ]
    },
    {
      "cell_type": "markdown",
      "metadata": {
        "id": "1nqGkYIUy-Ma"
      },
      "source": [
        "## Let's synthesize!\n",
        "You can test it with the test files shallow.txt and shallow.mid or they can be replaced with whatever you want.\n",
        "\n",
        "- Each row of the TXT represents 2 bars (8 beats). The synthesizer speaks English.\n",
        "\n",
        "- MIDI file shouldn't have multiple notes playing at the same time never"
      ]
    },
    {
      "cell_type": "code",
      "execution_count": null,
      "metadata": {
        "colab": {
          "base_uri": "https://localhost:8080/"
        },
        "id": "XMS1My3OaxMy",
        "outputId": "57f624a4-bf45-41b5-806a-ff329a56dad2",
        "vscode": {
          "languageId": "python"
        }
      },
      "outputs": [
        {
          "name": "stdout",
          "output_type": "stream",
          "text": [
            "--2023-04-09 18:39:51--  https://github.com/NyaaSaki/vocaloid/blob/14f89ffc261b2a332279d0afbfe16a3308a68d4b/tune.mid\n",
            "Resolving github.com (github.com)... 140.82.112.3\n",
            "Connecting to github.com (github.com)|140.82.112.3|:443... connected.\n",
            "HTTP request sent, awaiting response... 200 OK\n",
            "Length: unspecified [text/html]\n",
            "Saving to: ‘voc.mid’\n",
            "\n",
            "voc.mid                 [ <=>                ] 134.75K  --.-KB/s    in 0.08s   \n",
            "\n",
            "2023-04-09 18:39:52 (1.71 MB/s) - ‘voc.mid’ saved [137986]\n",
            "\n",
            "--2023-04-09 18:39:52--  https://raw.githubusercontent.com/NyaaSaki/vocaloid/main/lyric.txt\n",
            "Resolving raw.githubusercontent.com (raw.githubusercontent.com)... 185.199.108.133, 185.199.109.133, 185.199.110.133, ...\n",
            "Connecting to raw.githubusercontent.com (raw.githubusercontent.com)|185.199.108.133|:443... connected.\n",
            "HTTP request sent, awaiting response... 200 OK\n",
            "Length: 551 [text/plain]\n",
            "Saving to: ‘voc.txt’\n",
            "\n",
            "voc.txt             100%[===================>]     551  --.-KB/s    in 0s      \n",
            "\n",
            "2023-04-09 18:39:52 (46.7 MB/s) - ‘voc.txt’ saved [551/551]\n",
            "\n"
          ]
        }
      ],
      "source": [
        "# Download file samples to test it\n",
        "!wget -O voc.mid https://github.com/NyaaSaki/vocaloid/blob/14f89ffc261b2a332279d0afbfe16a3308a68d4b/tune.mid\n",
        "!wget -O voc.txt https://raw.githubusercontent.com/NyaaSaki/vocaloid/main/lyric.txt"
      ]
    },
    {
      "cell_type": "code",
      "execution_count": null,
      "metadata": {
        "colab": {
          "base_uri": "https://localhost:8080/"
        },
        "id": "kWCM4znGpxhN",
        "outputId": "1bb3bb0c-333a-4f55-9e19-cf4376c952ec",
        "vscode": {
          "languageId": "python"
        }
      },
      "outputs": [],
      "source": [
        "%%time\n",
        "# It might take a little bit\n",
        "!python -m midi2voice -l voc.txt -m tune.mid -g female -t 60"
      ]
    },
    {
      "cell_type": "code",
      "execution_count": null,
      "metadata": {
        "colab": {
          "base_uri": "https://localhost:8080/",
          "height": 75
        },
        "id": "ip8E11q8_lB6",
        "outputId": "8f81f6bf-eda8-4a36-e0c5-db31cacbcff2",
        "vscode": {
          "languageId": "python"
        }
      },
      "outputs": [],
      "source": [
        "import IPython.display as ipd\n",
        "ipd.Audio(\"voice.wav\")"
      ]
    },
    {
      "cell_type": "code",
      "execution_count": null,
      "metadata": {
        "id": "BTD09_T_BBf1",
        "vscode": {
          "languageId": "python"
        }
      },
      "outputs": [],
      "source": []
    }
  ],
  "metadata": {
    "colab": {
      "provenance": []
    },
    "kernelspec": {
      "display_name": "Python 3",
      "name": "python3"
    }
  },
  "nbformat": 4,
  "nbformat_minor": 0
}
